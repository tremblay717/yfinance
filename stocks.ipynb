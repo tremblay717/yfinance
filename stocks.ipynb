{
 "cells": [
  {
   "cell_type": "code",
   "execution_count": 38,
   "metadata": {},
   "outputs": [],
   "source": [
    "import yfinance as yf\n",
    "import datetime\n",
    "import pandas as pd"
   ]
  },
  {
   "cell_type": "code",
   "execution_count": 39,
   "metadata": {},
   "outputs": [],
   "source": [
    "stocks = [\"AAPL\",\"MSFT\",\"AMZN\",\"GOOGL\",\"META\",\"JNJ\",\"V\",\"JPM\",\"PG\",\"KO\",\"DIS\",\"NKE\",\"HD\",\"BAC\",\"VZ\"]\n",
    "\n",
    "#  test comment"
   ]
  },
  {
   "cell_type": "code",
   "execution_count": 40,
   "metadata": {},
   "outputs": [
    {
     "name": "stdout",
     "output_type": "stream",
     "text": [
      "[*********************100%***********************]  15 of 15 completed\n"
     ]
    }
   ],
   "source": [
    "df = yf.download(stocks, start=datetime.date(2013,1,1), end=None, interval='1mo')['Close']"
   ]
  },
  {
   "cell_type": "code",
   "execution_count": 41,
   "metadata": {},
   "outputs": [],
   "source": [
    "df.to_csv(\"C:/Users/Christophe/Desktop/stock_data.csv\", decimal=\",\", encoding=\"UTF-8\")"
   ]
  }
 ],
 "metadata": {
  "kernelspec": {
   "display_name": "Downloads",
   "language": "python",
   "name": "python3"
  },
  "language_info": {
   "codemirror_mode": {
    "name": "ipython",
    "version": 3
   },
   "file_extension": ".py",
   "mimetype": "text/x-python",
   "name": "python",
   "nbconvert_exporter": "python",
   "pygments_lexer": "ipython3",
   "version": "3.10.4"
  },
  "orig_nbformat": 4,
  "vscode": {
   "interpreter": {
    "hash": "1f112bf265d56f419599c1b358191622a83867e958780fcf8301e20f8b0e8ee5"
   }
  }
 },
 "nbformat": 4,
 "nbformat_minor": 2
}
