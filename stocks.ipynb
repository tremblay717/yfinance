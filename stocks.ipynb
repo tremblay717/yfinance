{
 "cells": [
  {
   "cell_type": "code",
   "execution_count": null,
   "metadata": {},
   "outputs": [],
   "source": []
  }
 ],
 "metadata": {
  "kernelspec": {
   "display_name": "Python 3",
   "language": "python",
   "name": "python3"
  },
  "language_info": {
   "name": "python",
   "version": "3.9.7"
  },
  "orig_nbformat": 4,
  "vscode": {
   "interpreter": {
    "hash": "2090e4023b1499424ac798907b83a903bbf41b2fefa15a3d761b9ea0b2152f58"
   }
  }
 },
 "nbformat": 4,
 "nbformat_minor": 2
}
